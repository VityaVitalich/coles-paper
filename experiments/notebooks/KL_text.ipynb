{
 "cells": [
  {
   "cell_type": "code",
   "execution_count": 1,
   "metadata": {},
   "outputs": [],
   "source": [
    "import numpy as np\n",
    "import pandas as pd\n",
    "import torch\n",
    "import torch.nn as nn\n",
    "from sklearn.model_selection import train_test_split\n",
    "from sklearn.metrics import classification_report\n",
    "import transformers\n",
    "from transformers import AutoModel, BertTokenizerFast"
   ]
  },
  {
   "cell_type": "code",
   "execution_count": 2,
   "metadata": {},
   "outputs": [],
   "source": [
    "import matplotlib as mpl"
   ]
  },
  {
   "cell_type": "code",
   "execution_count": 3,
   "metadata": {},
   "outputs": [],
   "source": [
    "from glob import glob"
   ]
  },
  {
   "cell_type": "code",
   "execution_count": 22,
   "metadata": {},
   "outputs": [],
   "source": [
    "# download from https://drive.google.com/u/0/uc?id=1cGy4RNDV87ZHEXbiozABr9gsSrZpPaPz&export=download"
   ]
  },
  {
   "cell_type": "code",
   "execution_count": 26,
   "metadata": {},
   "outputs": [
    {
     "name": "stdout",
     "output_type": "stream",
     "text": [
      "total 1059652\r\n",
      "-rw-r--r-- 1 ivan sudo    111888 Apr  1 09:04 KL_cyclostationary.ipynb\r\n",
      "-rw-r--r-- 1 ivan sudo    119222 Apr  1 09:06 KL_text.ipynb\r\n",
      "-rw-r--r-- 1 ivan sudo    491471 Apr  1 08:42 Semi_supervised_figures.ipynb\r\n",
      "drwxrwxr-x 3 ivan sudo        34 Dec 26  2017 __MACOSX\r\n",
      "-rw-r--r-- 1 ivan sudo     70661 Apr  1 08:42 all_scenario_events_per_client.ipynb\r\n",
      "drwxr-xr-x 2 ivan sudo   1011712 Aug 18  2013 blogs\r\n",
      "-rw-r--r-- 1 ivan sudo 632898892 Apr  1 09:09 blogs.zip\r\n",
      "drwxr-xr-x 2 ivan sudo       112 Apr  1 09:03 figures\r\n",
      "-rw-r--r-- 1 ivan sudo     12262 Apr  1 08:42 final_table_calculation.ipynb\r\n",
      "-rw-r--r-- 1 ivan sudo    207963 Apr  1 08:42 hidden_size_figures.ipynb\r\n",
      "-rw-r--r-- 1 ivan sudo     57365 Apr  1 08:42 prepare_figures.ipynb\r\n",
      "-rw-r--r-- 1 ivan sudo    135412 Apr  1 08:42 tinkof_results.ipynb\r\n",
      "-rw-r--r-- 1 ivan sudo    211462 Apr  1 08:42 tinkoff_als.ipynb\r\n",
      "-rw-r--r-- 1 ivan sudo    179444 Apr  1 08:42 tinkoff_binary_classification_model.ipynb\r\n",
      "-rw-r--r-- 1 ivan sudo    130155 Apr  1 08:42 tinkoff_feature_model.ipynb\r\n"
     ]
    }
   ],
   "source": [
    "!ls -l"
   ]
  },
  {
   "cell_type": "code",
   "execution_count": null,
   "metadata": {},
   "outputs": [],
   "source": []
  },
  {
   "cell_type": "code",
   "execution_count": 25,
   "metadata": {},
   "outputs": [],
   "source": [
    "!unzip -q blogs.zip"
   ]
  },
  {
   "cell_type": "code",
   "execution_count": 27,
   "metadata": {},
   "outputs": [],
   "source": [
    "blogs = glob('blogs/*.xml')"
   ]
  },
  {
   "cell_type": "code",
   "execution_count": 28,
   "metadata": {},
   "outputs": [
    {
     "data": {
      "text/plain": [
       "'blogs/1000331.female.37.indUnk.Leo.xml'"
      ]
     },
     "execution_count": 28,
     "metadata": {},
     "output_type": "execute_result"
    }
   ],
   "source": [
    "blogs[0]"
   ]
  },
  {
   "cell_type": "code",
   "execution_count": 29,
   "metadata": {},
   "outputs": [],
   "source": [
    "from tqdm.auto import tqdm"
   ]
  },
  {
   "cell_type": "code",
   "execution_count": 30,
   "metadata": {},
   "outputs": [],
   "source": [
    "import re"
   ]
  },
  {
   "cell_type": "code",
   "execution_count": null,
   "metadata": {},
   "outputs": [],
   "source": []
  },
  {
   "cell_type": "code",
   "execution_count": 31,
   "metadata": {},
   "outputs": [
    {
     "data": {
      "application/vnd.jupyter.widget-view+json": {
       "model_id": "d3a4e5e815474e388240049d1b1a7aed",
       "version_major": 2,
       "version_minor": 0
      },
      "text/plain": [
       "  0%|          | 0/19320 [00:00<?, ?it/s]"
      ]
     },
     "metadata": {},
     "output_type": "display_data"
    },
    {
     "data": {
      "application/vnd.jupyter.widget-view+json": {
       "model_id": "de5bb97550304b2e9034cda7b44fa8c5",
       "version_major": 2,
       "version_minor": 0
      },
      "text/plain": [
       "  0%|          | 0/19320 [00:00<?, ?it/s]"
      ]
     },
     "metadata": {},
     "output_type": "display_data"
    },
    {
     "data": {
      "application/vnd.jupyter.widget-view+json": {
       "model_id": "abd2c6c737704a16aaf98cf13863d785",
       "version_major": 2,
       "version_minor": 0
      },
      "text/plain": [
       "  0%|          | 0/19320 [00:00<?, ?it/s]"
      ]
     },
     "metadata": {},
     "output_type": "display_data"
    },
    {
     "data": {
      "application/vnd.jupyter.widget-view+json": {
       "model_id": "7d11aa72af884aac89168aab451845fd",
       "version_major": 2,
       "version_minor": 0
      },
      "text/plain": [
       "  0%|          | 0/19320 [00:00<?, ?it/s]"
      ]
     },
     "metadata": {},
     "output_type": "display_data"
    }
   ],
   "source": [
    "blog_texts = blogs\n",
    "blog_texts = [open(b, 'rb').read().decode('cp1252', errors='ignore') for b in tqdm(blog_texts)]\n",
    "blog_texts = [re.sub(r'[\\r\\n]', ' ', b) for b in tqdm(blog_texts)]\n",
    "blog_texts = [re.sub(r'</post>', '</post>\\r\\n', b) for b in tqdm(blog_texts)]\n",
    "blog_texts = [re.findall(r'<post>(.*)</post>', b) for b in tqdm(blog_texts)]"
   ]
  },
  {
   "cell_type": "code",
   "execution_count": 32,
   "metadata": {},
   "outputs": [
    {
     "data": {
      "application/vnd.jupyter.widget-view+json": {
       "model_id": "6d3d3019315e4b84a2a7453d8bbafebd",
       "version_major": 2,
       "version_minor": 0
      },
      "text/plain": [
       "  0%|          | 0/19320 [00:00<?, ?it/s]"
      ]
     },
     "metadata": {},
     "output_type": "display_data"
    }
   ],
   "source": [
    "blog_texts = [p for b in tqdm(blog_texts) for p in b]"
   ]
  },
  {
   "cell_type": "code",
   "execution_count": 33,
   "metadata": {},
   "outputs": [
    {
     "data": {
      "text/plain": [
       "681288"
      ]
     },
     "execution_count": 33,
     "metadata": {},
     "output_type": "execute_result"
    }
   ],
   "source": [
    "len(blog_texts)"
   ]
  },
  {
   "cell_type": "code",
   "execution_count": 34,
   "metadata": {},
   "outputs": [
    {
     "data": {
      "text/plain": [
       "'    \\t         well everyone got up and going this morning  its still raining but thats okay with me  sort of suits my mood  i could easily have stayed home in bed with my book and the cats  this has been a lot of rain though  people have wet basements there are lakes where there should be golf courses and fields everything is green green green  but it is supposed to be 26 degrees by friday so well be dealing with mosquitos next week  i heard winnipeg described as an old testament city on  urllink cbc radio one  last week and it sort of rings true  floods infestations etc etc                 '"
      ]
     },
     "execution_count": 34,
     "metadata": {},
     "output_type": "execute_result"
    }
   ],
   "source": [
    "post_text = blog_texts\n",
    "post_text = [re.sub(r'[^\\w\\s]', r'', p.lower()) for p in post_text]\n",
    "post_text[0]"
   ]
  },
  {
   "cell_type": "code",
   "execution_count": 35,
   "metadata": {},
   "outputs": [
    {
     "data": {
      "text/plain": [
       "'    \\t         well everyone got up and going this morning  its still raining but thats okay with me  sort of suits my mood  i could easily have stayed home in bed with my book and the cats  this has been a lot of rain though  people have wet basements there are lakes where there should be golf courses and fields everything is green green green  but it is supposed to be 26 degrees by friday so well be dealing with mosquitos next week  i heard winnipeg described as an old testament city on  urllink cbc radio one  last week and it sort of rings true  floods infestations etc etc                 '"
      ]
     },
     "execution_count": 35,
     "metadata": {},
     "output_type": "execute_result"
    }
   ],
   "source": [
    "post_text[0]"
   ]
  },
  {
   "cell_type": "code",
   "execution_count": 36,
   "metadata": {},
   "outputs": [
    {
     "data": {
      "text/plain": [
       "['well',\n",
       " 'everyone',\n",
       " 'got',\n",
       " 'up',\n",
       " 'and',\n",
       " 'going',\n",
       " 'this',\n",
       " 'morning',\n",
       " 'its',\n",
       " 'still',\n",
       " 'raining',\n",
       " 'but',\n",
       " 'thats',\n",
       " 'okay',\n",
       " 'with',\n",
       " 'me',\n",
       " 'sort',\n",
       " 'of',\n",
       " 'suits',\n",
       " 'my',\n",
       " 'mood',\n",
       " 'i',\n",
       " 'could',\n",
       " 'easily',\n",
       " 'have',\n",
       " 'stayed',\n",
       " 'home',\n",
       " 'in',\n",
       " 'bed',\n",
       " 'with',\n",
       " 'my',\n",
       " 'book',\n",
       " 'and',\n",
       " 'the',\n",
       " 'cats',\n",
       " 'this',\n",
       " 'has',\n",
       " 'been',\n",
       " 'a',\n",
       " 'lot',\n",
       " 'of',\n",
       " 'rain',\n",
       " 'though',\n",
       " 'people',\n",
       " 'have',\n",
       " 'wet',\n",
       " 'basements',\n",
       " 'there',\n",
       " 'are',\n",
       " 'lakes',\n",
       " 'where',\n",
       " 'there',\n",
       " 'should',\n",
       " 'be',\n",
       " 'golf',\n",
       " 'courses',\n",
       " 'and',\n",
       " 'fields',\n",
       " 'everything',\n",
       " 'is',\n",
       " 'green',\n",
       " 'green',\n",
       " 'green',\n",
       " 'but',\n",
       " 'it',\n",
       " 'is',\n",
       " 'supposed',\n",
       " 'to',\n",
       " 'be',\n",
       " '26',\n",
       " 'degrees',\n",
       " 'by',\n",
       " 'friday',\n",
       " 'so',\n",
       " 'well',\n",
       " 'be',\n",
       " 'dealing',\n",
       " 'with',\n",
       " 'mosquitos',\n",
       " 'next',\n",
       " 'week',\n",
       " 'i',\n",
       " 'heard',\n",
       " 'winnipeg',\n",
       " 'described',\n",
       " 'as',\n",
       " 'an',\n",
       " 'old',\n",
       " 'testament',\n",
       " 'city',\n",
       " 'on',\n",
       " 'urllink',\n",
       " 'cbc',\n",
       " 'radio',\n",
       " 'one',\n",
       " 'last',\n",
       " 'week',\n",
       " 'and',\n",
       " 'it',\n",
       " 'sort',\n",
       " 'of',\n",
       " 'rings',\n",
       " 'true',\n",
       " 'floods',\n",
       " 'infestations',\n",
       " 'etc',\n",
       " 'etc']"
      ]
     },
     "execution_count": 36,
     "metadata": {},
     "output_type": "execute_result"
    }
   ],
   "source": [
    "post_words = post_text\n",
    "post_words = [p.split() for p in post_words]\n",
    "post_words = [[w.strip() for w in p] for p in post_words]\n",
    "post_words = [[w for w in p if len(w) > 0] for p in post_words]\n",
    "post_words[0]"
   ]
  },
  {
   "cell_type": "code",
   "execution_count": null,
   "metadata": {},
   "outputs": [],
   "source": []
  },
  {
   "cell_type": "code",
   "execution_count": 37,
   "metadata": {},
   "outputs": [],
   "source": [
    "from sklearn.feature_extraction.text import CountVectorizer"
   ]
  },
  {
   "cell_type": "code",
   "execution_count": 38,
   "metadata": {},
   "outputs": [
    {
     "data": {
      "text/plain": [
       "681288"
      ]
     },
     "execution_count": 38,
     "metadata": {},
     "output_type": "execute_result"
    }
   ],
   "source": [
    "len(post_words)"
   ]
  },
  {
   "cell_type": "code",
   "execution_count": 39,
   "metadata": {},
   "outputs": [
    {
     "data": {
      "text/plain": [
       "135834590"
      ]
     },
     "execution_count": 39,
     "metadata": {},
     "output_type": "execute_result"
    }
   ],
   "source": [
    "sum([len(p) for p in post_words])"
   ]
  },
  {
   "cell_type": "code",
   "execution_count": 40,
   "metadata": {},
   "outputs": [],
   "source": [
    "cleaned_texts = [' '.join(p) for p in post_words]"
   ]
  },
  {
   "cell_type": "code",
   "execution_count": 41,
   "metadata": {},
   "outputs": [
    {
     "data": {
      "text/plain": [
       "4650"
      ]
     },
     "execution_count": 41,
     "metadata": {},
     "output_type": "execute_result"
    }
   ],
   "source": [
    "cv = CountVectorizer(min_df=1500)\n",
    "cv.fit(cleaned_texts)\n",
    "len(cv.vocabulary_)"
   ]
  },
  {
   "cell_type": "code",
   "execution_count": 42,
   "metadata": {},
   "outputs": [
    {
     "data": {
      "text/plain": [
       "{'well': 4489,\n",
       " 'everyone': 1465,\n",
       " 'got': 1824,\n",
       " 'up': 4346,\n",
       " 'and': 230,\n",
       " 'going': 1811,\n",
       " 'this': 4158,\n",
       " 'morning': 2713,\n",
       " 'its': 2215,\n",
       " 'still': 3913,\n",
       " 'raining': 3289,\n",
       " 'but': 649,\n",
       " 'thats': 4125,\n",
       " 'okay': 2890,\n",
       " 'with': 4552,\n",
       " 'me': 2600,\n",
       " 'sort': 3817,\n",
       " 'of': 2871,\n",
       " 'suits': 3993,\n",
       " 'my': 2749,\n",
       " 'mood': 2708,\n",
       " 'could': 989,\n",
       " 'easily': 1341,\n",
       " 'have': 1932,\n",
       " 'stayed': 3896,\n",
       " 'home': 2021,\n",
       " 'in': 2118,\n",
       " 'bed': 445,\n",
       " 'book': 554,\n",
       " 'the': 4127,\n",
       " 'cats': 718,\n",
       " 'has': 1924,\n",
       " 'been': 448,\n",
       " 'lot': 2514,\n",
       " 'rain': 3287,\n",
       " 'though': 4163,\n",
       " 'people': 3017,\n",
       " 'wet': 4496,\n",
       " 'there': 4138,\n",
       " 'are': 293,\n",
       " 'where': 4505,\n",
       " 'should': 3685,\n",
       " 'be': 428,\n",
       " 'golf': 1814,\n",
       " 'fields': 1595,\n",
       " 'everything': 1467,\n",
       " 'is': 2200,\n",
       " 'green': 1853,\n",
       " 'it': 2207,\n",
       " 'supposed': 4010,\n",
       " 'to': 4204,\n",
       " '26': 34,\n",
       " 'degrees': 1140,\n",
       " 'by': 655,\n",
       " 'friday': 1715,\n",
       " 'so': 3778,\n",
       " 'dealing': 1110,\n",
       " 'next': 2803,\n",
       " 'week': 4481,\n",
       " 'heard': 1946,\n",
       " 'described': 1161,\n",
       " 'as': 317,\n",
       " 'an': 227,\n",
       " 'old': 2892,\n",
       " 'city': 819,\n",
       " 'on': 2896,\n",
       " 'urllink': 4360,\n",
       " 'radio': 3285,\n",
       " 'one': 2898,\n",
       " 'last': 2370,\n",
       " 'rings': 3461,\n",
       " 'true': 4278,\n",
       " 'etc': 1451,\n",
       " 'never': 2796,\n",
       " 'stops': 3923,\n",
       " 'talking': 4057,\n",
       " 'shell': 3659,\n",
       " 'say': 3542,\n",
       " 'mom': 2696,\n",
       " 'when': 4503,\n",
       " 'yes': 4625,\n",
       " 'oh': 2886,\n",
       " 'yeah': 4617,\n",
       " 'do': 1247,\n",
       " 'lady': 2354,\n",
       " 'bugs': 628,\n",
       " 'hide': 1983,\n",
       " 'anything': 263,\n",
       " 'hear': 1945,\n",
       " 'her': 1972,\n",
       " 'own': 2949,\n",
       " 'voice': 4412,\n",
       " 'very': 4389,\n",
       " 'now': 2844,\n",
       " 'remember': 3391,\n",
       " 'why': 4523,\n",
       " 'go': 1803,\n",
       " 'work': 4575,\n",
       " 'sigh': 3703,\n",
       " 'actually': 125,\n",
       " 'not': 2834,\n",
       " 'yet': 4628,\n",
       " 'bought': 575,\n",
       " '15': 11,\n",
       " 'tickets': 4185,\n",
       " 'game': 1749,\n",
       " 'for': 1667,\n",
       " 'moms': 2700,\n",
       " 'birthday': 503,\n",
       " 'tonight': 4217,\n",
       " 'they': 4143,\n",
       " 'baseball': 409,\n",
       " 'games': 1750,\n",
       " 'because': 441,\n",
       " 'although': 208,\n",
       " 'beautiful': 438,\n",
       " 'aint': 180,\n",
       " 'we': 4466,\n",
       " 'used': 4364,\n",
       " 'lived': 2478,\n",
       " 'toronto': 4229,\n",
       " 'really': 3330,\n",
       " 'like': 2450,\n",
       " 'taking': 4050,\n",
       " 'kids': 2313,\n",
       " 'dont': 1263,\n",
       " 'know': 2339,\n",
       " 'what': 4498,\n",
       " 'blue': 539,\n",
       " 'cost': 985,\n",
       " 'im': 2100,\n",
       " 'sure': 4013,\n",
       " 'cheaper': 768,\n",
       " 'here': 1973,\n",
       " 'just': 2290,\n",
       " 'checked': 770,\n",
       " 'definitely': 1137,\n",
       " 'ha': 1884,\n",
       " 'set': 3631,\n",
       " 'feed': 1578,\n",
       " 'that': 4123,\n",
       " 'easy': 1345,\n",
       " 'doesnt': 1253,\n",
       " 'enough': 1420,\n",
       " 'today': 4206,\n",
       " 'sun': 3996,\n",
       " 'shining': 3663,\n",
       " 'outside': 2940,\n",
       " 'poor': 3123,\n",
       " 'flowers': 1650,\n",
       " 'spent': 3850,\n",
       " 'far': 1555,\n",
       " 'too': 4221,\n",
       " 'long': 2497,\n",
       " 'their': 4130,\n",
       " 'who': 4515,\n",
       " 'little': 2476,\n",
       " 'talk': 4054,\n",
       " 'post': 3138,\n",
       " 'promise': 3222,\n",
       " 'which': 4510,\n",
       " 'reminded': 3395,\n",
       " 'were': 4492,\n",
       " 'about': 90,\n",
       " 'food': 1661,\n",
       " 'at': 341,\n",
       " 'coffee': 862,\n",
       " 'break': 592,\n",
       " 'becoming': 444,\n",
       " 'lost': 2513,\n",
       " 'art': 311,\n",
       " 'any': 258,\n",
       " 'under': 4321,\n",
       " '40': 50,\n",
       " 'how': 2052,\n",
       " 'those': 4162,\n",
       " 'us': 4361,\n",
       " 'fall': 1540,\n",
       " 'age': 166,\n",
       " 'range': 3299,\n",
       " 'couldnt': 990,\n",
       " 'would': 4593,\n",
       " 'happen': 1908,\n",
       " 'if': 2091,\n",
       " 'world': 4581,\n",
       " 'exist': 1491,\n",
       " 'la': 2347,\n",
       " 'day': 1104,\n",
       " 'after': 161,\n",
       " 'tomorrow': 4213,\n",
       " 'only': 2901,\n",
       " 'being': 459,\n",
       " 'released': 3380,\n",
       " 'cant': 682,\n",
       " 'wait': 4422,\n",
       " 'see': 3592,\n",
       " 'love': 2519,\n",
       " 'good': 1817,\n",
       " 'picture': 3059,\n",
       " 'lots': 2515,\n",
       " 'special': 3841,\n",
       " 'effects': 1362,\n",
       " 'had': 1887,\n",
       " 'our': 2935,\n",
       " 'somehow': 3797,\n",
       " 'canada': 674,\n",
       " 'need': 2780,\n",
       " 'found': 1693,\n",
       " 'sites': 3732,\n",
       " 'including': 2125,\n",
       " 'guess': 1869,\n",
       " 'wouldnt': 4594,\n",
       " 'help': 1965,\n",
       " 'much': 2738,\n",
       " 'went': 4491,\n",
       " 'better': 483,\n",
       " 'print': 3193,\n",
       " 'out': 2938,\n",
       " 'keep': 2297,\n",
       " 'case': 707,\n",
       " 'ive': 2218,\n",
       " 'tried': 4271,\n",
       " 'starting': 3885,\n",
       " 'blog': 526,\n",
       " 'feels': 1583,\n",
       " 'right': 3458,\n",
       " 'then': 4135,\n",
       " 'read': 3315,\n",
       " 'strange': 3931,\n",
       " 'most': 2715,\n",
       " 'more': 2712,\n",
       " 'you': 4631,\n",
       " 'gets': 1779,\n",
       " 'hmm': 2008,\n",
       " 'sounds': 3825,\n",
       " 'something': 3800,\n",
       " 'else': 1380,\n",
       " 'decided': 1121,\n",
       " 'give': 1791,\n",
       " 'another': 251,\n",
       " 'try': 4282,\n",
       " 'husband': 2078,\n",
       " 'best': 481,\n",
       " 'western': 4495,\n",
       " 'title': 4202,\n",
       " 'desperately': 1173,\n",
       " 'each': 1330,\n",
       " 'page': 2959,\n",
       " 'funny': 1742,\n",
       " 'new': 2798,\n",
       " 'some': 3794,\n",
       " 'reason': 3331,\n",
       " 'struck': 3951,\n",
       " 'absolutely': 94,\n",
       " 'hilarious': 1992,\n",
       " 'stuck': 3955,\n",
       " 'head': 1937,\n",
       " 'ever': 1461,\n",
       " 'since': 3719,\n",
       " 'women': 4558,\n",
       " 'thinking': 4154,\n",
       " '20th': 26,\n",
       " 'high': 1985,\n",
       " 'school': 3556,\n",
       " 'reunion': 3442,\n",
       " 'weekend': 4482,\n",
       " 'over': 2942,\n",
       " '100': 1,\n",
       " 'coming': 880,\n",
       " 'time': 4193,\n",
       " 'names': 2759,\n",
       " 'from': 1724,\n",
       " 'past': 2997,\n",
       " 'barely': 406,\n",
       " 'run': 3504,\n",
       " 'into': 2180,\n",
       " 'anyone': 262,\n",
       " 'always': 210,\n",
       " 'pizza': 3075,\n",
       " 'nights': 2813,\n",
       " 'takes': 4049,\n",
       " 'stress': 3940,\n",
       " 'am': 211,\n",
       " 'make': 2553,\n",
       " 'dinner': 1210,\n",
       " 'look': 2500,\n",
       " 'forward': 1691,\n",
       " 'fact': 1526,\n",
       " 'many': 2567,\n",
       " 'friends': 1720,\n",
       " 'having': 1935,\n",
       " 'family': 1548,\n",
       " 'gathering': 1761,\n",
       " 'offered': 2877,\n",
       " 'all': 195,\n",
       " 'making': 2556,\n",
       " 'needs': 2784,\n",
       " 'done': 1262,\n",
       " 'freezing': 1710,\n",
       " 'cut': 1065,\n",
       " 'cousins': 1008,\n",
       " 'huge': 2061,\n",
       " 'amount': 222,\n",
       " 'cheese': 775,\n",
       " 'ill': 2098,\n",
       " 'without': 4554,\n",
       " 'usual': 4371,\n",
       " 'relaxing': 3378,\n",
       " 'night': 2811,\n",
       " 'hasnt': 1925,\n",
       " 'relaxed': 3377,\n",
       " 'saw': 3541,\n",
       " 'independence': 2132,\n",
       " 'than': 4117,\n",
       " 'raising': 3293,\n",
       " 'also': 206,\n",
       " 'two': 4303,\n",
       " 'movies': 2731,\n",
       " 'was': 4447,\n",
       " 'club': 853,\n",
       " 'hadnt': 1888,\n",
       " 'together': 4209,\n",
       " 'forever': 1675,\n",
       " 'whom': 4519,\n",
       " 'film': 1609,\n",
       " 'fun': 1737,\n",
       " 'writers': 4603,\n",
       " 'great': 1848,\n",
       " 'somewhere': 3804,\n",
       " 'mistakes': 2687,\n",
       " 'given': 1792,\n",
       " 'information': 2143,\n",
       " 'bound': 576,\n",
       " 'links': 2463,\n",
       " 'library': 2435,\n",
       " 'getting': 1781,\n",
       " 'peoples': 3018,\n",
       " 'lives': 2479,\n",
       " 'get': 1778,\n",
       " 'your': 4636,\n",
       " 'imagination': 2103,\n",
       " 'paul': 3005,\n",
       " 'martin': 2578,\n",
       " 'promised': 3223,\n",
       " 'he': 1936,\n",
       " 'elected': 1372,\n",
       " 'will': 4530,\n",
       " 'create': 1027,\n",
       " 'child': 785,\n",
       " 'care': 693,\n",
       " 'think': 4153,\n",
       " 'around': 306,\n",
       " 'want': 4438,\n",
       " 'working': 4578,\n",
       " 'easier': 1340,\n",
       " 'families': 1547,\n",
       " 'space': 3833,\n",
       " 'helpful': 1967,\n",
       " 'spend': 3848,\n",
       " 'children': 787,\n",
       " 'instead': 2160,\n",
       " 'years': 4619,\n",
       " 'leave': 2410,\n",
       " 'made': 2542,\n",
       " 'allow': 196,\n",
       " 'five': 1633,\n",
       " 'worked': 4576,\n",
       " 'least': 2408,\n",
       " '50': 58,\n",
       " 'hold': 2012,\n",
       " 'jobs': 2259,\n",
       " 'appeal': 275,\n",
       " 'impossible': 2112,\n",
       " 'find': 1615,\n",
       " 'job': 2258,\n",
       " 'seems': 3599,\n",
       " 'question': 3270,\n",
       " 'no': 2816,\n",
       " 'havent': 1933,\n",
       " 'seen': 3600,\n",
       " 'apparently': 274,\n",
       " 'unless': 4342,\n",
       " 'changed': 748,\n",
       " 'deal': 1109,\n",
       " 'things': 4151,\n",
       " 'important': 2110,\n",
       " 'longer': 2498,\n",
       " 'anyway': 265,\n",
       " 'glad': 1795,\n",
       " 'tired': 4199,\n",
       " 'days': 1105,\n",
       " 'off': 2872,\n",
       " 'bit': 504,\n",
       " 'sorry': 3816,\n",
       " 'writing': 4605,\n",
       " 'whole': 4518,\n",
       " 'pretty': 3182,\n",
       " 'busy': 648,\n",
       " '20': 19,\n",
       " 'tests': 4114,\n",
       " 'tuesday': 4287,\n",
       " 'teachers': 4076,\n",
       " 'yesterday': 4626,\n",
       " 'cool': 970,\n",
       " 'inside': 2151,\n",
       " 'play': 3090,\n",
       " 'second': 3583,\n",
       " 'part': 2982,\n",
       " 'music': 2746,\n",
       " 'left': 2416,\n",
       " 'early': 1334,\n",
       " '500': 59,\n",
       " 'plans': 3085,\n",
       " 'before': 451,\n",
       " 'knew': 2334,\n",
       " 'did': 1194,\n",
       " 'neat': 2776,\n",
       " 'stuff': 3963,\n",
       " 'sleep': 3750,\n",
       " 'earlier': 1333,\n",
       " 'bar': 404,\n",
       " 'project': 3218,\n",
       " 'different': 1204,\n",
       " 'places': 3078,\n",
       " 'worship': 4589,\n",
       " 'obviously': 2860,\n",
       " 'jewish': 2254,\n",
       " 'other': 2930,\n",
       " 'chance': 745,\n",
       " 'write': 4601,\n",
       " 'ya': 4610,\n",
       " 'di': 1190,\n",
       " 'ok': 2889,\n",
       " 'late': 2372,\n",
       " 'arrival': 308,\n",
       " 'probably': 3200,\n",
       " 'end': 1404,\n",
       " 'ton': 4214,\n",
       " 'doing': 1258,\n",
       " 'nothing': 2838,\n",
       " 'interesting': 2173,\n",
       " 'happened': 1909,\n",
       " 'classes': 826,\n",
       " 'talked': 4055,\n",
       " 'couple': 1001,\n",
       " 'reads': 3319,\n",
       " 'thing': 4150,\n",
       " 'top': 4225,\n",
       " 'rock': 3473,\n",
       " 'climbing': 839,\n",
       " 'wall': 4431,\n",
       " 'kelly': 2300,\n",
       " 'intend': 2166,\n",
       " 'itll': 2213,\n",
       " 'jazz': 2239,\n",
       " 'lovely': 2521,\n",
       " 'evening': 1457,\n",
       " 'didnt': 1195,\n",
       " 'shocked': 3671,\n",
       " 'yay': 4615,\n",
       " 'monday': 2701,\n",
       " 'weve': 4497,\n",
       " 'once': 2897,\n",
       " 'shut': 3697,\n",
       " 'sat': 3534,\n",
       " 'alone': 201,\n",
       " 'bus': 644,\n",
       " 'again': 164,\n",
       " 'umm': 4316,\n",
       " 'finish': 1621,\n",
       " 'homework': 2024,\n",
       " 'mr': 2733,\n",
       " 'let': 2425,\n",
       " 'ended': 1405,\n",
       " 'reading': 3318,\n",
       " 'id': 2081,\n",
       " 'suggest': 3988,\n",
       " 'depressing': 1157,\n",
       " 'finally': 1612,\n",
       " 'four': 1695,\n",
       " 'section': 3589,\n",
       " 'quit': 3276,\n",
       " 'show': 3691,\n",
       " 'nathan': 2762,\n",
       " 'tom': 4212,\n",
       " 'playing': 3094,\n",
       " 'randomly': 3297,\n",
       " 'kind': 2320,\n",
       " 'forgot': 1679,\n",
       " 'his': 2001,\n",
       " 'keys': 2306,\n",
       " 'back': 387,\n",
       " 'opening': 2907,\n",
       " 'practice': 3157,\n",
       " 'rooms': 3487,\n",
       " 'took': 4222,\n",
       " 'them': 4132,\n",
       " 'math': 2588,\n",
       " 'him': 1995,\n",
       " 'teacher': 4075,\n",
       " 'missed': 2683,\n",
       " 'course': 1004,\n",
       " 'dan': 1081,\n",
       " 'dave': 1101,\n",
       " 'peter': 3040,\n",
       " 'don': 1261,\n",
       " 'shock': 3670,\n",
       " 'nice': 2806,\n",
       " 'kid': 2311,\n",
       " 'played': 3091,\n",
       " 'song': 3806,\n",
       " 'wow': 4598,\n",
       " 'class': 825,\n",
       " 'woo': 4568,\n",
       " '3rd': 49,\n",
       " '4th': 57,\n",
       " 'trying': 4283,\n",
       " 'wrong': 4607,\n",
       " 'sitting': 3734,\n",
       " 'hard': 1916,\n",
       " 'hes': 1978,\n",
       " 'both': 567,\n",
       " 'messed': 2643,\n",
       " 'yelled': 4621,\n",
       " 'seek': 3594,\n",
       " 'revenge': 3445,\n",
       " 'someday': 3796,\n",
       " 'theory': 4136,\n",
       " 'said': 3520,\n",
       " 'myself': 2750,\n",
       " 'moving': 2732,\n",
       " 'nap': 2760,\n",
       " 'boring': 562,\n",
       " 'gym': 1883,\n",
       " 'shoes': 3673,\n",
       " 'happens': 1911,\n",
       " 'period': 3028,\n",
       " 'determined': 1183,\n",
       " 'answer': 252,\n",
       " 'answering': 254,\n",
       " 'rocks': 3475,\n",
       " 'saying': 3543,\n",
       " 'forced': 1669,\n",
       " 'evil': 1472,\n",
       " 'devil': 1189,\n",
       " 'answered': 253,\n",
       " 'even': 1456,\n",
       " 'name': 2757,\n",
       " 'beat': 434,\n",
       " 'science': 3558,\n",
       " 'alex': 192,\n",
       " 'put': 3263,\n",
       " 'list': 2467,\n",
       " 'gosh': 1823,\n",
       " 'bad': 391,\n",
       " 'harder': 1918,\n",
       " 'person': 3032,\n",
       " 'comes': 876,\n",
       " 'told': 4211,\n",
       " 'player': 3092,\n",
       " 'small': 3761,\n",
       " 'players': 3093,\n",
       " 'big': 489,\n",
       " 'heads': 1941,\n",
       " 'meaning': 2604,\n",
       " 'picked': 3055,\n",
       " 'idea': 2082,\n",
       " 'already': 204,\n",
       " 'feel': 1580,\n",
       " 'awful': 380,\n",
       " 'leaving': 2412,\n",
       " 'ate': 342,\n",
       " 'lesson': 2423,\n",
       " 'possibly': 3137,\n",
       " 'thought': 4164,\n",
       " 'down': 1269,\n",
       " 'itd': 2210,\n",
       " 'rude': 3499,\n",
       " 'later': 2374,\n",
       " 'parents': 2977,\n",
       " 'crap': 1020,\n",
       " 'peace': 3011,\n",
       " 'listening': 2471,\n",
       " 'sudden': 3981,\n",
       " 'hey': 1979,\n",
       " 'clean': 830,\n",
       " 'fine': 1618,\n",
       " 'almost': 200,\n",
       " 'problem': 3201,\n",
       " 'came': 667,\n",
       " 'upstairs': 4356,\n",
       " 'asked': 323,\n",
       " 'nicely': 2807,\n",
       " 'makes': 2554,\n",
       " 'guilty': 1876,\n",
       " 'downstairs': 1272,\n",
       " 'cleaning': 832,\n",
       " 'bathroom': 421,\n",
       " 'stand': 3872,\n",
       " 'gold': 1812,\n",
       " 'marry': 2577,\n",
       " 'rich': 3450,\n",
       " 'guy': 1881,\n",
       " 'can': 673,\n",
       " 'hire': 1999,\n",
       " 'cook': 965,\n",
       " 'peanut': 3013,\n",
       " 'butter': 651,\n",
       " 'super': 4002,\n",
       " 'fat': 1561,\n",
       " 'wants': 4441,\n",
       " 'divorce': 1245,\n",
       " 'wont': 4566,\n",
       " 'signed': 3706,\n",
       " 'half': 1896,\n",
       " 'become': 442,\n",
       " 'first': 1628,\n",
       " 'order': 2920,\n",
       " 'or': 2918,\n",
       " 'matter': 2592,\n",
       " 'plan': 3080,\n",
       " 'come': 874,\n",
       " 'wish': 4547,\n",
       " 'park': 2979,\n",
       " 'favorite': 1567,\n",
       " 'place': 3076,\n",
       " 'bring': 607,\n",
       " 'mini': 2670,\n",
       " 'swing': 4036,\n",
       " 'same': 3527,\n",
       " 'fantastic': 1553,\n",
       " 'youre': 4637,\n",
       " 'theyre': 4146,\n",
       " 'afraid': 158,\n",
       " 'onto': 2902,\n",
       " 'drives': 1299,\n",
       " 'crazy': 1025,\n",
       " 'usually': 4372,\n",
       " 'stay': 3895,\n",
       " 'hour': 2047,\n",
       " 'laugh': 2378,\n",
       " 'bored': 560,\n",
       " 'shall': 3646,\n",
       " 'horrible': 2039,\n",
       " 'life': 2440,\n",
       " 'bubble': 622,\n",
       " 'town': 4242,\n",
       " 'wasted': 4455,\n",
       " 'online': 2900,\n",
       " 'bother': 568,\n",
       " 'either': 1370,\n",
       " 'mean': 2603,\n",
       " 'serious': 3621,\n",
       " 'surprisingly': 4022,\n",
       " 'sadly': 3515,\n",
       " 'sit': 3730,\n",
       " 'ask': 322,\n",
       " 'way': 4464,\n",
       " 'hello': 1964,\n",
       " 'feeling': 1581,\n",
       " 'story': 3929,\n",
       " 'along': 202,\n",
       " 'involved': 2189,\n",
       " 'check': 769,\n",
       " 'policy': 3116,\n",
       " 'she': 3654,\n",
       " 'wears': 4472,\n",
       " 'upset': 4355,\n",
       " 'cute': 1066,\n",
       " 'jake': 2228,\n",
       " 'girl': 1787,\n",
       " 'speech': 3844,\n",
       " 'team': 4078,\n",
       " 'folks': 1656,\n",
       " 'six': 3737,\n",
       " 'minute': 2677,\n",
       " 'bell': 467,\n",
       " 'ring': 3460,\n",
       " 'wind': 4535,\n",
       " 'meh': 2621,\n",
       " 'exactly': 1475,\n",
       " 'mrs': 2734,\n",
       " 'lit': 2473,\n",
       " 'analysis': 228,\n",
       " 'rest': 3431,\n",
       " 'productive': 3209,\n",
       " 'excellent': 1480,\n",
       " 'road': 3469,\n",
       " 'incredibly': 2130,\n",
       " 'considering': 942,\n",
       " 'loser': 2510,\n",
       " 'party': 2990,\n",
       " 'dress': 1288,\n",
       " 'naturally': 2768,\n",
       " 'wore': 4574,\n",
       " 'outfit': 2939,\n",
       " 'stars': 3882,\n",
       " 'quite': 3277,\n",
       " 'newspaper': 2802,\n",
       " 'word': 4572,\n",
       " 'allowed': 197,\n",
       " 'opinions': 2911,\n",
       " 'sex': 3639,\n",
       " 'band': 400,\n",
       " 'general': 1769,\n",
       " 'prove': 3233,\n",
       " 'point': 3108,\n",
       " 'honestly': 2026,\n",
       " 'stupid': 3966,\n",
       " 'rise': 3464,\n",
       " 'opinion': 2910,\n",
       " 'situation': 3735,\n",
       " 'mature': 2595,\n",
       " 'highlight': 1988,\n",
       " 'amusing': 225,\n",
       " 'celebrate': 727,\n",
       " 'meet': 2616,\n",
       " 'awesome': 379,\n",
       " 'these': 4142,\n",
       " 'stole': 3915,\n",
       " 'table': 4042,\n",
       " 'during': 1324,\n",
       " 'creepy': 1035,\n",
       " 'kept': 2301,\n",
       " 'looking': 2503,\n",
       " 'three': 4170,\n",
       " 'times': 4194,\n",
       " 'meal': 2601,\n",
       " 'through': 4174,\n",
       " 'window': 4536,\n",
       " 'standing': 3875,\n",
       " 'waiting': 4424,\n",
       " 'van': 4381,\n",
       " 'asks': 325,\n",
       " 'central': 733,\n",
       " 'polite': 3117,\n",
       " 'says': 3544,\n",
       " 'take': 4047,\n",
       " 'tower': 4241,\n",
       " 'asking': 324,\n",
       " 'ten': 4101,\n",
       " 'thousand': 4166,\n",
       " 'turns': 4294,\n",
       " 'corner': 980,\n",
       " 'start': 3883,\n",
       " 'notice': 2839,\n",
       " 'heck': 1955,\n",
       " 'basically': 413,\n",
       " 'windows': 4537,\n",
       " 'rolled': 3479,\n",
       " 'adventure': 149,\n",
       " 'drove': 1305,\n",
       " 'tons': 4219,\n",
       " 'ads': 143,\n",
       " 'hot': 2045,\n",
       " 'secret': 3586,\n",
       " 'model': 2694,\n",
       " 'likes': 2453,\n",
       " 'man': 2560,\n",
       " 'woman': 4557,\n",
       " 'please': 3097,\n",
       " 'winter': 4544,\n",
       " 'brother': 615,\n",
       " 'bunch': 635,\n",
       " 'asleep': 326,\n",
       " 'noise': 2820,\n",
       " 'turn': 4291,\n",
       " 'goodnight': 1820,\n",
       " 'sweet': 4033,\n",
       " 'dreams': 1287,\n",
       " 'looks': 2504,\n",
       " 'nose': 2833,\n",
       " 'face': 1522,\n",
       " 'except': 1481,\n",
       " 'soon': 3810,\n",
       " 'pass': 2991,\n",
       " 'everyones': 1466,\n",
       " 'nearly': 2775,\n",
       " 'answers': 255,\n",
       " 'computer': 911,\n",
       " 'certainly': 739,\n",
       " 'aside': 321,\n",
       " 'use': 4363,\n",
       " 'correctly': 983,\n",
       " 'roll': 3478,\n",
       " 'may': 2597,\n",
       " 'shes': 3660,\n",
       " 'idiot': 2087,\n",
       " 'change': 747,\n",
       " 'subjects': 3970,\n",
       " 'someone': 3798,\n",
       " 'called': 663,\n",
       " 'completely': 908,\n",
       " 'effort': 1363,\n",
       " 'train': 4253,\n",
       " 'steve': 3908,\n",
       " 'chem': 777,\n",
       " 'such': 3977,\n",
       " 'friend': 1718,\n",
       " 'coolest': 972,\n",
       " 'hair': 1893,\n",
       " 'dislike': 1236,\n",
       " 'deep': 1128,\n",
       " 'burning': 641,\n",
       " 'away': 378,\n",
       " 'soul': 3820,\n",
       " 'rather': 3305,\n",
       " 'lets': 2426,\n",
       " 'hmmm': 2009,\n",
       " 'odd': 2869,\n",
       " 'free': 1708,\n",
       " 'afternoon': 162,\n",
       " 'wonder': 4561,\n",
       " 'noticed': 2840,\n",
       " 'random': 3296,\n",
       " 'written': 4606,\n",
       " 'heh': 1958,\n",
       " 'ah': 174,\n",
       " 'bet': 482,\n",
       " 'arent': 296,\n",
       " 'alright': 205,\n",
       " 'tell': 4093,\n",
       " 'across': 112,\n",
       " 'balance': 396,\n",
       " 'finds': 1617,\n",
       " 'warm': 4443,\n",
       " 'maybe': 2598,\n",
       " 'youve': 4641,\n",
       " 'dumb': 1319,\n",
       " 'upper': 4353,\n",
       " 'madness': 2543,\n",
       " 'lately': 2373,\n",
       " 'disney': 1237,\n",
       " 'makeup': 2555,\n",
       " 'blast': 517,\n",
       " 'ride': 3454,\n",
       " 'wasnt': 4452,\n",
       " 'expected': 1497,\n",
       " 'enjoy': 1416,\n",
       " 'created': 1028,\n",
       " 'vacation': 4375,\n",
       " 'started': 3884,\n",
       " 'sick': 3700,\n",
       " '31': 41,\n",
       " 'hours': 2048,\n",
       " 'caught': 719,\n",
       " 'feature': 1572,\n",
       " 'teenagers': 4089,\n",
       " 'vs': 4420,\n",
       " 'adults': 145,\n",
       " 'research': 3420,\n",
       " 'gig': 1786,\n",
       " 'wednesday': 4479,\n",
       " 'mall': 2558,\n",
       " 'snow': 3777,\n",
       " 'hehe': 1959,\n",
       " 'finished': 1622,\n",
       " 'yum': 4644,\n",
       " 'happy': 1915,\n",
       " 'while': 4511,\n",
       " 'plus': 3102,\n",
       " 'watching': 4460,\n",
       " 'law': 2387,\n",
       " 'talented': 4053,\n",
       " 'kick': 2307,\n",
       " 'butt': 650,\n",
       " 'discussed': 1229,\n",
       " 'hung': 2070,\n",
       " 'chris': 804,\n",
       " 'eventually': 1460,\n",
       " 'room': 3485,\n",
       " 'stories': 3927,\n",
       " 'angry': 239,\n",
       " 'comment': 882,\n",
       " 'reaching': 3312,\n",
       " 'paragraph': 2974,\n",
       " 'deciding': 1123,\n",
       " 'terrible': 4106,\n",
       " 'nervous': 2793,\n",
       " 'final': 1611,\n",
       " 'perfect': 3021,\n",
       " 'act': 113,\n",
       " 'test': 4112,\n",
       " 'fail': 1530,\n",
       " 'words': 4573,\n",
       " 'crawl': 1024,\n",
       " 'seriously': 3622,\n",
       " 'pants': 2970,\n",
       " 'normally': 2830,\n",
       " 'wear': 4470,\n",
       " 'shorts': 3682,\n",
       " 'painful': 2963,\n",
       " 'emily': 1391,\n",
       " 'religion': 3384,\n",
       " 'kill': 2314,\n",
       " 'evidence': 1471,\n",
       " 'shorter': 3680,\n",
       " 'furniture': 1743,\n",
       " 'floor': 1646,\n",
       " 'wood': 4569,\n",
       " 'inevitable': 2139,\n",
       " 'study': 3961,\n",
       " 'hoping': 2038,\n",
       " 'wanted': 4439,\n",
       " 'sad': 3513,\n",
       " 'theres': 4140,\n",
       " 'finals': 1613,\n",
       " 'ready': 3320,\n",
       " 'studied': 3958,\n",
       " 'learn': 2404,\n",
       " 'avoid': 372,\n",
       " 'avoiding': 373,\n",
       " 'painted': 2965,\n",
       " 'nails': 2755,\n",
       " 'typing': 4308,\n",
       " 'spoke': 3859,\n",
       " 'exciting': 1486,\n",
       " 'miss': 2682,\n",
       " 'seeing': 3593,\n",
       " 'paper': 2971,\n",
       " 'john': 2261,\n",
       " 'jealous': 2240,\n",
       " 'figure': 1601,\n",
       " 'complaining': 905,\n",
       " 'death': 1114,\n",
       " 'gone': 1815,\n",
       " 'darn': 1092,\n",
       " 'scary': 3549,\n",
       " 'every': 1462,\n",
       " 'dropping': 1303,\n",
       " 'useful': 4365,\n",
       " 'whats': 4500,\n",
       " 'whatever': 4499,\n",
       " 'scared': 3547,\n",
       " 'kicked': 2308,\n",
       " 'gotten': 1826,\n",
       " 'silly': 3712,\n",
       " 'boy': 582,\n",
       " 'minutes': 2678,\n",
       " 'watch': 4458,\n",
       " 'fell': 1585,\n",
       " 'totally': 4232,\n",
       " 'mad': 2541,\n",
       " 'hope': 2034,\n",
       " 'ones': 2899,\n",
       " 'learned': 2405,\n",
       " 'trick': 4270,\n",
       " 'teaching': 4077,\n",
       " 'awake': 374,\n",
       " 'perhaps': 3027,\n",
       " 'isnt': 2202,\n",
       " 'ago': 171,\n",
       " 'forgotten': 1680,\n",
       " 'style': 3968,\n",
       " 'anymore': 261,\n",
       " 'argh': 297,\n",
       " 'annoying': 248,\n",
       " 'forgive': 1678,\n",
       " 'bothers': 571,\n",
       " 'weekends': 4483,\n",
       " 'books': 555,\n",
       " 'might': 2657,\n",
       " 'add': 129,\n",
       " 'watched': 4459,\n",
       " 'patient': 3002,\n",
       " 'does': 1252,\n",
       " 'proud': 3232,\n",
       " 'keeps': 2299,\n",
       " 'record': 3345,\n",
       " 'truth': 4281,\n",
       " 'hopes': 2037,\n",
       " 'fails': 1533,\n",
       " 'bible': 487,\n",
       " 'quote': 3280,\n",
       " 'nonetheless': 2823,\n",
       " 'mind': 2667,\n",
       " 'must': 2748,\n",
       " 'conversation': 961,\n",
       " 'upcoming': 4347,\n",
       " 'competition': 903,\n",
       " 'songs': 3807,\n",
       " 'solo': 3791,\n",
       " 'freak': 1703,\n",
       " 'cold': 864,\n",
       " 'ear': 1332,\n",
       " 'hoo': 2030,\n",
       " 'pointed': 3109,\n",
       " 'hardest': 1919,\n",
       " 'blah': 513,\n",
       " 'bothering': 570,\n",
       " 'helped': 1966,\n",
       " 'pieces': 3063,\n",
       " 'listen': 2469,\n",
       " 'complain': 904,\n",
       " 'felt': 1587,\n",
       " 'cried': 1037,\n",
       " 'cry': 1052,\n",
       " 'mei': 2622,\n",
       " 'worse': 4588,\n",
       " 'understand': 4324,\n",
       " ...}"
      ]
     },
     "execution_count": 42,
     "metadata": {},
     "output_type": "execute_result"
    }
   ],
   "source": [
    "cv.vocabulary_"
   ]
  },
  {
   "cell_type": "code",
   "execution_count": null,
   "metadata": {},
   "outputs": [],
   "source": []
  },
  {
   "cell_type": "code",
   "execution_count": null,
   "metadata": {},
   "outputs": [],
   "source": []
  },
  {
   "cell_type": "code",
   "execution_count": 43,
   "metadata": {},
   "outputs": [
    {
     "data": {
      "application/vnd.jupyter.widget-view+json": {
       "model_id": "fe0915ba37aa4d9a8e60b25e5d28eb50",
       "version_major": 2,
       "version_minor": 0
      },
      "text/plain": [
       "  0%|          | 0/681288 [00:00<?, ?it/s]"
      ]
     },
     "metadata": {},
     "output_type": "display_data"
    }
   ],
   "source": [
    "vectorised_text = [\n",
    "    [cv.vocabulary_.get(w, -1) for w in l] for l in tqdm(post_words)\n",
    "]"
   ]
  },
  {
   "cell_type": "code",
   "execution_count": null,
   "metadata": {},
   "outputs": [],
   "source": []
  },
  {
   "cell_type": "code",
   "execution_count": 44,
   "metadata": {},
   "outputs": [],
   "source": [
    "import numpy as np"
   ]
  },
  {
   "cell_type": "code",
   "execution_count": 45,
   "metadata": {},
   "outputs": [],
   "source": [
    "vectorised_text = [np.array(p) for p in vectorised_text]"
   ]
  },
  {
   "cell_type": "code",
   "execution_count": 46,
   "metadata": {
    "scrolled": true
   },
   "outputs": [
    {
     "data": {
      "text/plain": [
       "[array([4489, 1465, 1824, 4346,  230, 1811, 4158, 2713, 2215, 3913, 3289,\n",
       "         649, 4125, 2890, 4552, 2600, 3817, 2871, 3993, 2749, 2708,   -1,\n",
       "         989, 1341, 1932, 3896, 2021, 2118,  445, 4552, 2749,  554,  230,\n",
       "        4127,  718, 4158, 1924,  448,   -1, 2514, 2871, 3287, 4163, 3017,\n",
       "        1932, 4496,   -1, 4138,  293,   -1, 4505, 4138, 3685,  428, 1814,\n",
       "          -1,  230, 1595, 1467, 2200, 1853, 1853, 1853,  649, 2207, 2200,\n",
       "        4010, 4204,  428,   34, 1140,  655, 1715, 3778, 4489,  428, 1110,\n",
       "        4552,   -1, 2803, 4481,   -1, 1946,   -1, 1161,  317,  227, 2892,\n",
       "          -1,  819, 2896, 4360,   -1, 3285, 2898, 2370, 4481,  230, 2207,\n",
       "        3817, 2871, 3461, 4278,   -1,   -1, 1451, 1451]),\n",
       " array([2749,   -1, 2892, 2796, 3923, 4057, 3659, 3542, 2696,  230, 4503,\n",
       "          -1, 3542, 4625, 3659, 3542,   -1,   -1, 2886, 4617, 4505, 1247,\n",
       "        2354,  628, 1983, 2118, 4127, 3287,  263, 4204, 1945, 1972, 2949,\n",
       "        4412, 4389, 4389,   -1, 2844,   -1, 3391, 4158, 2200, 4523,   -1,\n",
       "        1803, 4204, 4575, 3703]),\n",
       " array([ 125, 2215, 2834, 3289, 4628,  649,   -1,  575,   11, 4185, 4204,\n",
       "        4127, 4360,   -1, 1749, 1667, 2749, 2700,  503, 4217,  230, 2207,\n",
       "        2200, 4010, 4204, 3287, 1247, 4143,   -1,  409, 1750,  441, 2871,\n",
       "        3287,  208, 4127,   -1, 2200,  438, 2207,  180, 4127, 4360,   -1,\n",
       "        4466, 4364, 4204, 1803, 4204, 4127,   -1, 1750,   -1, 4503, 4466,\n",
       "        2478, 2118, 4229,  230, 3330, 2450, 4050, 4127, 2313, 4204, 4127,\n",
       "          -1, 1750, 2844,   -1, 1263, 2339, 4498, 4360,  539,   -1, 4185,\n",
       "         985, 2844,  649, 2100, 4013, 2215,  768, 1973, 2118,   -1, 2886,\n",
       "          -1, 2290,  770,  230, 2207, 1137, 2200]),\n",
       " array([1884, 2290, 3631, 4346, 2749,   -1, 1578, 4123, 2200, 3778, 1345,\n",
       "        4523, 1253, 1465, 1247, 2207, 1420, 1667, 4206, 4127, 3996, 2200,\n",
       "        3663,  230,   -1, 3685,  428, 2940,   -1, 2749, 3123, 1650, 4123,\n",
       "        1932, 3850, 1555, 4221, 2497, 2118, 4130,   -1,  649,   -1, 1932,\n",
       "          -1,   -1,  230,   -1,   -1, 4515,  293,   -1, 4204, 1803, 2940,\n",
       "        2476,   -1,   -1,   -1, 3685, 4054, 2370, 3138, 4206,   -1, 3222]),\n",
       " array([2886, 4510, 2290, 3395, 2600, 4466, 4492, 4057,   90,   -1, 1661,\n",
       "         341,  862,  592, 4158, 2713, 2200, 4158,  444,   -1, 2513,  311,\n",
       "         293, 4138,  258, 3017, 4321,   50, 4515, 2339, 2052, 4204, 1247,\n",
       "        4158, 4162, 2871, 4361,  341,  862, 4123, 1540, 2118, 4123,  166,\n",
       "        3299,  990, 4498, 4593, 1908, 2091, 4127, 4581,  317, 4466, 2339,\n",
       "        2207,   -1, 4204, 1491,   -1, 2347, 4360, 1104,  161, 4213, 4510,\n",
       "        2200, 2901,  459, 3380, 4206,  230,   -1,  682, 4422, 4204, 3592,\n",
       "          -1, 2519,   -1, 1817,   -1, 3059, 4552, 2515, 2871, 3841, 1362,\n",
       "         230, 4466, 1887, 4204,   -1, 2935, 1661, 3797, 4489, 4466, 2118,\n",
       "         674, 1137, 4593, 2780, 4204,   -1, 2935, 1661,   -1, 1693, 2515,\n",
       "        2871, 3732, 2896,   -1, 2125, 4360, 4158, 2898,  649,   -1, 1869,\n",
       "        4123, 4594, 1965, 2600, 2738, 2091, 1467, 4491,  483, 3193, 2207,\n",
       "        2938,  230, 2297, 2207, 2290, 2118,  707])]"
      ]
     },
     "execution_count": 46,
     "metadata": {},
     "output_type": "execute_result"
    }
   ],
   "source": [
    "vectorised_text[:5]"
   ]
  },
  {
   "cell_type": "code",
   "execution_count": 47,
   "metadata": {},
   "outputs": [],
   "source": [
    "import matplotlib.pyplot as plt"
   ]
  },
  {
   "cell_type": "code",
   "execution_count": 48,
   "metadata": {},
   "outputs": [
    {
     "data": {
      "image/png": "[encoded data removed]",
      "text/plain": [
       "<Figure size 432x288 with 1 Axes>"
      ]
     },
     "metadata": {
      "needs_background": "light"
     },
     "output_type": "display_data"
    }
   ],
   "source": [
    "plt.hist([(p == -1).sum() / len(p) for p in vectorised_text if len(p) > 0], bins=20);"
   ]
  },
  {
   "cell_type": "code",
   "execution_count": 49,
   "metadata": {},
   "outputs": [],
   "source": [
    "vectorised_text = [p[p >= 0] for p in vectorised_text]\n",
    "vectorised_text = [p for p in vectorised_text if len(p > 0)]"
   ]
  },
  {
   "cell_type": "code",
   "execution_count": 50,
   "metadata": {},
   "outputs": [
    {
     "data": {
      "image/png": "[encoded data removed]",
      "text/plain": [
       "<Figure size 432x288 with 1 Axes>"
      ]
     },
     "metadata": {
      "needs_background": "light"
     },
     "output_type": "display_data"
    }
   ],
   "source": [
    "plt.hist(np.clip([len(p) for p in vectorised_text], None, 1000), bins=20);"
   ]
  },
  {
   "cell_type": "code",
   "execution_count": 51,
   "metadata": {},
   "outputs": [],
   "source": [
    "vectorised_text = [p for p in vectorised_text if len(p) >= 100]"
   ]
  },
  {
   "cell_type": "code",
   "execution_count": 52,
   "metadata": {},
   "outputs": [
    {
     "data": {
      "image/png": "[encoded data removed]",
      "text/plain": [
       "<Figure size 432x288 with 1 Axes>"
      ]
     },
     "metadata": {
      "needs_background": "light"
     },
     "output_type": "display_data"
    }
   ],
   "source": [
    "plt.hist(np.clip([len(p) for p in vectorised_text], None, 1000), bins=20);"
   ]
  },
  {
   "cell_type": "code",
   "execution_count": null,
   "metadata": {},
   "outputs": [],
   "source": []
  },
  {
   "cell_type": "code",
   "execution_count": 53,
   "metadata": {},
   "outputs": [
    {
     "data": {
      "image/png": "[encoded data removed]",
      "text/plain": [
       "<Figure size 864x360 with 1 Axes>"
      ]
     },
     "metadata": {
      "needs_background": "light"
     },
     "output_type": "display_data"
    }
   ],
   "source": [
    "plt.figure(figsize=(12, 5))\n",
    "plt.hist(np.clip([\n",
    "    np.unique(p, return_counts=True)[1].max()\n",
    "    for p in vectorised_text], 0, 50), bins=50);"
   ]
  },
  {
   "cell_type": "code",
   "execution_count": 54,
   "metadata": {},
   "outputs": [],
   "source": [
    "cv_reverce_ix = {v: k for k, v in cv.vocabulary_.items()}"
   ]
  },
  {
   "cell_type": "code",
   "execution_count": null,
   "metadata": {},
   "outputs": [],
   "source": []
  },
  {
   "cell_type": "markdown",
   "metadata": {},
   "source": [
    "# KL text"
   ]
  },
  {
   "cell_type": "code",
   "execution_count": 55,
   "metadata": {},
   "outputs": [],
   "source": [
    "min_len, max_len = 25, 150"
   ]
  },
  {
   "cell_type": "code",
   "execution_count": 56,
   "metadata": {},
   "outputs": [],
   "source": [
    "seq_len_orig = np.array([len(p) for p in vectorised_text])\n",
    "disjoint_split_point = np.where(\n",
    "    seq_len_orig > 2 * min_len,\n",
    "    (np.random.rand(len(seq_len_orig)) * (seq_len_orig - 2 * min_len)).astype(int) + min_len,\n",
    "    (seq_len_orig / 2).astype(int),\n",
    ")\n",
    "seq_a = [p[:s] for p, s in zip(vectorised_text, disjoint_split_point)]\n",
    "seq_b = [p[s:] for p, s in zip(vectorised_text, disjoint_split_point)]"
   ]
  },
  {
   "cell_type": "code",
   "execution_count": 57,
   "metadata": {},
   "outputs": [],
   "source": [
    "def get_slice(seq):\n",
    "    seq_len_orig = np.array([len(p) for p in seq])\n",
    "    s_max_sample_len = np.clip(seq_len_orig.clip(0, max_len) - min_len, 0, None)\n",
    "    s_len = (s_max_sample_len * np.random.rand(len(seq_len_orig))).astype(int) + min_len\n",
    "    s_avl_pos = np.clip(seq_len_orig - s_len, 0, None)\n",
    "    s_start = (s_avl_pos * np.random.rand(len(seq_len_orig))).astype(int)\n",
    "\n",
    "    return [p[s: s + l] for p, s, l in zip(seq, s_start, s_len)]"
   ]
  },
  {
   "cell_type": "code",
   "execution_count": 58,
   "metadata": {},
   "outputs": [
    {
     "data": {
      "text/plain": [
       "('oh which just reminded me we were talking about food at coffee break this morning is this becoming lost art are there any people under 40 who know how to do this those of us at coffee that fall in that age range couldnt what would happen if the world as',\n",
       " 'we know it to exist la urllink day after tomorrow which is only being released today and cant wait to see love good picture with lots of special effects and we had to our food somehow well we in canada definitely would need to our food found lots of sites on including urllink this one but guess that wouldnt help me much if everything went better print it out and keep it just in case')"
      ]
     },
     "execution_count": 58,
     "metadata": {},
     "output_type": "execute_result"
    }
   ],
   "source": [
    "' '.join([cv_reverce_ix.get(i) for i in seq_a[0]]), ' '.join([cv_reverce_ix.get(i) for i in seq_b[0]])"
   ]
  },
  {
   "cell_type": "code",
   "execution_count": 59,
   "metadata": {},
   "outputs": [],
   "source": [
    "seq_a = get_slice(seq_a)\n",
    "seq_b = get_slice(seq_b)"
   ]
  },
  {
   "cell_type": "code",
   "execution_count": 60,
   "metadata": {},
   "outputs": [
    {
     "data": {
      "text/plain": [
       "('reminded me we were talking about food at coffee break this morning is this becoming lost art are there any people under 40 who know how to do this those of us at',\n",
       " 'it to exist la urllink day after tomorrow which is only being released today and cant wait to see love good picture with lots of special effects and we had to our food somehow well we in canada definitely would need to our food found lots of sites on including urllink this one but guess that wouldnt help me much if everything went better print it out and keep it just in')"
      ]
     },
     "execution_count": 60,
     "metadata": {},
     "output_type": "execute_result"
    }
   ],
   "source": [
    "' '.join([cv_reverce_ix.get(i) for i in seq_a[0]]), ' '.join([cv_reverce_ix.get(i) for i in seq_b[0]])"
   ]
  },
  {
   "cell_type": "code",
   "execution_count": null,
   "metadata": {},
   "outputs": [],
   "source": []
  },
  {
   "cell_type": "code",
   "execution_count": 61,
   "metadata": {},
   "outputs": [],
   "source": [
    "def _kl(a, b, verbose=False):\n",
    "    a = {k: v / len(a) for k, v in zip(*np.unique(a, return_counts=True))}\n",
    "    b = {k: v / len(b) for k, v in zip(*np.unique(b, return_counts=True))}\n",
    "\n",
    "    d = {k: 0.0 if a.get(k, 0.0) == 0.0 else a.get(k, 0.0) * np.log(a.get(k, 1e-12) / b.get(k, 1e-12))\n",
    "         for k in set(a.keys()).union(b.keys())}\n",
    "    if verbose:\n",
    "        print(sorted([(k, v) for k, v in d.items()], key=lambda x: -x[1]))\n",
    "        \n",
    "    return sum(d.values())\n",
    "\n",
    "\n",
    "def kl_distribution(l_a, l_b):        \n",
    "    return np.array([_kl(a, b) for a, b in tqdm(zip(l_a, l_b))])"
   ]
  },
  {
   "cell_type": "code",
   "execution_count": 62,
   "metadata": {},
   "outputs": [],
   "source": [
    "import seaborn as sns"
   ]
  },
  {
   "cell_type": "code",
   "execution_count": 63,
   "metadata": {},
   "outputs": [
    {
     "data": {
      "application/vnd.jupyter.widget-view+json": {
       "model_id": "e2e048e1675340b9a7c54b5681a1c5ef",
       "version_major": 2,
       "version_minor": 0
      },
      "text/plain": [
       "0it [00:00, ?it/s]"
      ]
     },
     "metadata": {},
     "output_type": "display_data"
    }
   ],
   "source": [
    "kl_pos = kl_distribution(seq_a, seq_b)"
   ]
  },
  {
   "cell_type": "code",
   "execution_count": 64,
   "metadata": {},
   "outputs": [
    {
     "data": {
      "application/vnd.jupyter.widget-view+json": {
       "model_id": "45d93f8cd8d84766a67caf8942a83025",
       "version_major": 2,
       "version_minor": 0
      },
      "text/plain": [
       "0it [00:00, ?it/s]"
      ]
     },
     "metadata": {},
     "output_type": "display_data"
    }
   ],
   "source": [
    "ix_shuffle = np.random.choice(len(seq_a), len(seq_a), replace=False)\n",
    "kl_neg = kl_distribution(seq_a, [seq_b[i] for i in ix_shuffle])"
   ]
  },
  {
   "cell_type": "code",
   "execution_count": 65,
   "metadata": {},
   "outputs": [],
   "source": [
    "plt.rc('text', usetex=True)\n",
    "plt.rc('font', family='serif')"
   ]
  },
  {
   "cell_type": "code",
   "execution_count": 67,
   "metadata": {},
   "outputs": [],
   "source": [
    "df = pd.concat([\n",
    "        pd.DataFrame({'KL': kl_pos.clip(0, None),\n",
    "                      'type': 'Same post sample'}),\n",
    "        pd.DataFrame({'KL': kl_neg.clip(0, None), \n",
    "                      'type': 'Random post sample'}),\n",
    "    ], axis=0).reset_index(drop=True)"
   ]
  },
  {
   "cell_type": "code",
   "execution_count": 68,
   "metadata": {},
   "outputs": [
    {
     "data": {
      "text/plain": [
       "645090"
      ]
     },
     "execution_count": 68,
     "metadata": {},
     "output_type": "execute_result"
    }
   ],
   "source": [
    "len(df)"
   ]
  },
  {
   "cell_type": "code",
   "execution_count": 76,
   "metadata": {},
   "outputs": [],
   "source": [
    "df.sample(frac=0.1).to_parquet('figures/kl_dis_text.parquet')"
   ]
  },
  {
   "cell_type": "code",
   "execution_count": 77,
   "metadata": {},
   "outputs": [
    {
     "name": "stdout",
     "output_type": "stream",
     "text": [
      "-rw-r--r-- 1 ivan sudo 1.1M Apr  1 09:25 figures/kl_dis_text.parquet\r\n"
     ]
    }
   ],
   "source": [
    "!ls -lh figures/kl_dis_text.parquet"
   ]
  },
  {
   "cell_type": "code",
   "execution_count": 78,
   "metadata": {},
   "outputs": [
    {
     "data": {
      "image/png": "[encoded data removed]",
      "text/plain": [
       "<Figure size 720x720 with 1 Axes>"
      ]
     },
     "metadata": {
      "needs_background": "light"
     },
     "output_type": "display_data"
    }
   ],
   "source": [
    "with mpl.rc_context() as rc:\n",
    "    mpl.rc(\"figure\", figsize=(10, 10))\n",
    "    mpl.rc('font', size=20)\n",
    "\n",
    "    sns.histplot(pd.read_parquet('figures/kl_dis_text.parquet'), x=\"KL\", hue=\"type\", bins=50, element='step')\n",
    "\n",
    "    # plt.title('Age group')\n",
    "    mpl.pyplot.savefig('figures/kl_dis_text.pdf', format='pdf', bbox_inches='tight')\n",
    "    # plt.show()"
   ]
  },
  {
   "cell_type": "code",
   "execution_count": null,
   "metadata": {},
   "outputs": [],
   "source": []
  }
 ],
 "metadata": {
  "kernelspec": {
   "display_name": "vtb",
   "language": "python",
   "name": "vtb"
  },
  "language_info": {
   "codemirror_mode": {
    "name": "ipython",
    "version": 3
   },
   "file_extension": ".py",
   "mimetype": "text/x-python",
   "name": "python",
   "nbconvert_exporter": "python",
   "pygments_lexer": "ipython3",
   "version": "3.8.0"
  }
 },
 "nbformat": 4,
 "nbformat_minor": 4
}
